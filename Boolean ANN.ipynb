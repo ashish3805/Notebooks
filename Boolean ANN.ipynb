{
 "cells": [
  {
   "cell_type": "code",
   "execution_count": 92,
   "metadata": {
    "collapsed": true
   },
   "outputs": [],
   "source": [
    "import matplotlib.pyplot as plt\n",
    "import numpy as np"
   ]
  },
  {
   "cell_type": "code",
   "execution_count": 93,
   "metadata": {
    "collapsed": true
   },
   "outputs": [],
   "source": [
    "data = [(0,0,0),(0,1,1),(1,0,1),(1,1,1)]"
   ]
  },
  {
   "cell_type": "code",
   "execution_count": 94,
   "metadata": {
    "collapsed": true
   },
   "outputs": [],
   "source": [
    "x1, x2, y = zip(*data)\n",
    "x_zip = zip(np.ones(4),list(x1),list(x2))\n",
    "x = np.array(list(x_zip))\n",
    "y = np.array(y)"
   ]
  },
  {
   "cell_type": "code",
   "execution_count": 95,
   "metadata": {
    "collapsed": true
   },
   "outputs": [],
   "source": [
    "def learn(w):\n",
    "    e = 0\n",
    "    for i in range(0,4):\n",
    "        y_calc = x[i].dot(w)\n",
    "        if(y[i] == 0):\n",
    "            if y_calc>=0:\n",
    "                e+=1\n",
    "                w-=x[i]\n",
    "        else:\n",
    "            if(y_calc<=0):\n",
    "                e+=1\n",
    "                w+=x[i]\n",
    "    return e,w"
   ]
  },
  {
   "cell_type": "code",
   "execution_count": 96,
   "metadata": {
    "collapsed": true
   },
   "outputs": [],
   "source": [
    "def predict(w,x):\n",
    "    x = np.insert(x,0,1)\n",
    "    return 1 if x.dot(w)>0 else 0"
   ]
  },
  {
   "cell_type": "code",
   "execution_count": 97,
   "metadata": {},
   "outputs": [
    {
     "data": {
      "image/png": "[encoded data removed]",
      "text/plain": [
       "<matplotlib.figure.Figure at 0x7fdd5a3287b8>"
      ]
     },
     "metadata": {},
     "output_type": "display_data"
    }
   ],
   "source": [
    "# learn many times:\n",
    "\n",
    "# init weight\n",
    "w = np.random.random(3)\n",
    "n = 50\n",
    "errors = []\n",
    "for i in range(0,n):\n",
    "    e,w = learn(w)\n",
    "    errors.append(e)\n",
    "ws = w\n",
    "plt.plot(np.arange(0,n),errors)\n",
    "plt.show()"
   ]
  },
  {
   "cell_type": "code",
   "execution_count": 98,
   "metadata": {},
   "outputs": [
    {
     "data": {
      "text/plain": [
       "0"
      ]
     },
     "execution_count": 98,
     "metadata": {},
     "output_type": "execute_result"
    }
   ],
   "source": [
    "test_x = np.array([0,0])\n",
    "predict(ws,test_x)"
   ]
  },
  {
   "cell_type": "code",
   "execution_count": null,
   "metadata": {
    "collapsed": true
   },
   "outputs": [],
   "source": []
  }
 ],
 "metadata": {
  "kernelspec": {
   "display_name": "Python 3",
   "language": "python",
   "name": "python3"
  },
  "language_info": {
   "codemirror_mode": {
    "name": "ipython",
    "version": 3
   },
   "file_extension": ".py",
   "mimetype": "text/x-python",
   "name": "python",
   "nbconvert_exporter": "python",
   "pygments_lexer": "ipython3",
   "version": "3.6.1"
  }
 },
 "nbformat": 4,
 "nbformat_minor": 2
}
