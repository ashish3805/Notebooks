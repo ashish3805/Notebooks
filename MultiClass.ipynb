{
 "cells": [
  {
   "cell_type": "code",
   "execution_count": 70,
   "metadata": {
    "collapsed": true
   },
   "outputs": [],
   "source": [
    "import matplotlib.pyplot as plt\n",
    "import numpy as np\n",
    "from sklearn import datasets"
   ]
  },
  {
   "cell_type": "code",
   "execution_count": 71,
   "metadata": {},
   "outputs": [],
   "source": [
    "def prepare_data():\n",
    "    X = datasets.load_digits().data\n",
    "    Y = datasets.load_digits().target\n",
    "    X = X[:1500,:]\n",
    "    Y = Y[:1500]\n",
    "    return (X,Y)\n",
    "\n",
    "def getTestData():\n",
    "    X = datasets.load_digits().data\n",
    "    Y = datasets.load_digits().target\n",
    "    X = X[1500:,:]\n",
    "    Y = Y[1500:]\n",
    "    return (X,Y)\n",
    "    "
   ]
  },
  {
   "cell_type": "code",
   "execution_count": 72,
   "metadata": {
    "collapsed": true
   },
   "outputs": [],
   "source": [
    "\n",
    "\n",
    "def sigmoid(x):\n",
    "    #sigmoidal activation\n",
    "    a = 1.0 / (1.0 + np.exp(-1.0*x))\n",
    "    return a\n",
    "\n",
    "def sigmoidGradient(x):\n",
    "    return np.multiply(sigmoid(x),1.0-sigmoid(x))\n",
    "\n",
    "def calc_cost(w,in_size,h_size,o_size,x,y,lam):\n",
    "    # calculate cost\n",
    "    theta1 = np.reshape(w[0:(in_size+1)*h_size],(h_size,in_size+1))\n",
    "    theta2 = np.reshape(w[(in_size+1)*h_size:],(o_size,h_size+1))\n",
    "    m = x.shape[0]\n",
    "    \n",
    "    cost = 0.0 \n",
    "    \n",
    "    x = np.concatenate((np.ones((x.shape[0],1)),x),axis = 1)\n",
    "    z2 = np.dot(x,theta1.T)\n",
    "    a2 = np.concatenate((np.ones((z2.shape[0],1)),sigmoid(z2)),axis = 1)\n",
    "    z3 = np.dot(a2,theta2.T)\n",
    "    a3 = sigmoid(z3)\n",
    "    h_theta = a3\n",
    "    \n",
    "    \n",
    "    my_y = np.zeros((y.shape[0],o_size))\n",
    "    for i in range(0,y.shape[0]):\n",
    "        my_y[i,y[i]] = 1.0\n",
    "        \n",
    "    for i in range(0,o_size):\n",
    "        part1 = np.sum(np.multiply(my_y[:,i],np.log(h_theta[:,i])))\n",
    "        part2 = np.sum(np.multiply((1.0-my_y[:,i]),np.log(1.0-h_theta[:,i])))\n",
    "        cost+=part1+part2\n",
    "    cost = -1.0 * cost/m\n",
    "    reg =  lam*(np.sum(np.square(theta1[:,1:].flatten()))+np.sum(np.square(theta2[:,1:].flatten())))/(2.0*m)\n",
    "    cost = cost+reg\n",
    "    \n",
    "    #calculate gradient\n",
    "    \n",
    "    a1 = x\n",
    "    z2 = np.dot(a1,theta1.T)\n",
    "    a2 = np.concatenate((np.ones((z2.shape[0],1)),sigmoid(z2)),axis = 1)\n",
    "    z3 = np.dot(a2,theta2.T)\n",
    "    a3 = sigmoid(z3)\n",
    "    \n",
    "    Bdelta1= np.zeros(theta1.shape)\n",
    "    Bdelta2= np.zeros(theta2.shape)\n",
    "    grad1= np.zeros(theta1.shape)\n",
    "    grad2= np.zeros(theta2.shape)\n",
    "    \n",
    "    delta3 = a3-my_y\n",
    "    delta2 = np.multiply(np.dot(delta3,theta2[:,1:]),sigmoidGradient(z2))\n",
    "    \n",
    "    Bdelta1 = np.dot(delta2.T,a1)\n",
    "    Bdelta2 = np.dot(delta3.T,a2)\n",
    "    \n",
    "    grad1[:,0] = Bdelta1[:,0]\n",
    "    grad1[:,1:] = (Bdelta1[:,1:] + lam*theta1[:,1:])/m\n",
    "    grad2[:,0] = Bdelta2[:,0]\n",
    "    grad2[:,1:] = (Bdelta2[:,1:] + lam*theta2[:,1:])/m\n",
    "    \n",
    "    grads = np.concatenate((grad1.flatten(),grad2.flatten()))\n",
    "    return (grads,cost)\n",
    "\n",
    "def classify(w,in_size,h_size,o_size,x):\n",
    "    theta1 = np.reshape(w[0:(in_size+1)*h_size],(h_size,in_size+1))\n",
    "    theta2 = np.reshape(w[(in_size+1)*h_size:],(o_size,h_size+1))\n",
    "    \n",
    "    x = np.concatenate((np.ones((x.shape[0],1)),x),axis = 1)\n",
    "    z2 = np.dot(x,theta1.T)\n",
    "    a2 = np.concatenate((np.ones((z2.shape[0],1)),sigmoid(z2)),axis = 1)\n",
    "    z3 = np.dot(a2,theta2.T)\n",
    "    a3 = sigmoid(z3)\n",
    "    h_theta = a3\n",
    "    return h_theta\n",
    "\n",
    "def count_positive(x):\n",
    "    return np.count_nonzero(x)\n",
    "\n",
    "def train(w,x,y,n,h_size,o_size,alpha,lam):\n",
    "    \n",
    "    i_size = x.shape[1]\n",
    "    h_size = h_size\n",
    "    o_size = o_size\n",
    "    \n",
    "    costs = np.empty(n)\n",
    "    for i in range(0,n):\n",
    "        grads, costs[i] = calc_cost(w,i_size,h_size,o_size,x,y,lam)\n",
    "        w = w - alpha*grads\n",
    "    \n",
    "    y_axis = np.arange(n)\n",
    "    plt.plot(y_axis,costs)\n",
    "    plt.show()\n",
    "    print(w,costs[n-1])\n",
    "    \n",
    "    return (w,costs[n-1])\n",
    "\n",
    "def test(w,i_size,h_size,o_size):\n",
    "    X,Y = getTestData()\n",
    "    data = np.array(X[0])\n",
    "    result = classify(w,i_size,h_size,o_size,X)\n",
    "    pos = 0\n",
    "    total = result.shape[0]\n",
    "    for i in range(0,result.shape[0]):\n",
    "        if np.argmax(result[i]) == Y[i]:\n",
    "            print(Y[i],\" with \",np.max(result[i]))\n",
    "            pos+=1\n",
    "    per = (pos/total) * 100\n",
    "    print(\"result: \",per)"
   ]
  },
  {
   "cell_type": "code",
   "execution_count": 73,
   "metadata": {},
   "outputs": [
    {
     "name": "stdout",
     "output_type": "stream",
     "text": [
      "[[  5.  13.   9. ...,  10.   0.   0.]\n",
      " [  0.  12.  13. ...,  16.  10.   0.]\n",
      " [  0.   4.  15. ...,  11.  16.   9.]\n",
      " ..., \n",
      " [  0.  14.   4. ...,  16.   9.   0.]\n",
      " [  9.  15.  13. ...,  16.   9.   1.]\n",
      " [ 16.  13.   1. ...,  10.   8.   6.]]\n",
      "[ 0.03694108  0.09441904  0.07602792 ...,  0.0377117   0.06099772\n",
      "  0.10802719]\n"
     ]
    },
    {
     "name": "stderr",
     "output_type": "stream",
     "text": [
      "/home/ashish/anaconda3/lib/python3.6/site-packages/ipykernel_launcher.py:4: RuntimeWarning: invalid value encountered in true_divide\n",
      "  after removing the cwd from sys.path.\n"
     ]
    },
    {
     "data": {
      "image/png": "[encoded data removed]",
      "text/plain": [
       "<matplotlib.figure.Figure at 0x7f5ad9f8aba8>"
      ]
     },
     "metadata": {},
     "output_type": "display_data"
    },
    {
     "name": "stdout",
     "output_type": "stream",
     "text": [
      "[ nan  nan  nan ...,  nan  nan  nan] nan\n",
      "0  with  nan\n",
      "0  with  nan\n",
      "0  with  nan\n",
      "0  with  nan\n",
      "0  with  nan\n",
      "0  with  nan\n",
      "0  with  nan\n",
      "0  with  nan\n",
      "0  with  nan\n",
      "0  with  nan\n",
      "0  with  nan\n",
      "0  with  nan\n",
      "0  with  nan\n",
      "0  with  nan\n",
      "0  with  nan\n",
      "0  with  nan\n",
      "0  with  nan\n",
      "0  with  nan\n",
      "0  with  nan\n",
      "0  with  nan\n",
      "0  with  nan\n",
      "0  with  nan\n",
      "0  with  nan\n",
      "0  with  nan\n",
      "0  with  nan\n",
      "0  with  nan\n",
      "0  with  nan\n",
      "result:  9.090909090909092\n"
     ]
    }
   ],
   "source": [
    "X,Y = prepare_data()\n",
    "i_size = X.shape[1]\n",
    "h_size = 25\n",
    "o_size = 10\n",
    "n = 100\n",
    "alpha = 0.01\n",
    "lam = 1.0\n",
    "\n",
    "\n",
    "Theta1 = np.random.uniform(0,0.12,h_size*(i_size+1))\n",
    "Theta2 = np.random.uniform(0,0.12,o_size*(h_size+1))\n",
    "print (Theta1)\n",
    "\n",
    "W = np.concatenate((Theta1,Theta2))\n",
    "W,cost = train(W,X,Y,n,h_size,o_size,alpha,lam)\n",
    "test(W,i_size,h_size,o_size)"
   ]
  },
  {
   "cell_type": "code",
   "execution_count": null,
   "metadata": {
    "collapsed": true
   },
   "outputs": [],
   "source": []
  },
  {
   "cell_type": "code",
   "execution_count": null,
   "metadata": {
    "collapsed": true
   },
   "outputs": [],
   "source": []
  }
 ],
 "metadata": {
  "kernelspec": {
   "display_name": "Python 3",
   "language": "python",
   "name": "python3"
  },
  "language_info": {
   "codemirror_mode": {
    "name": "ipython",
    "version": 3
   },
   "file_extension": ".py",
   "mimetype": "text/x-python",
   "name": "python",
   "nbconvert_exporter": "python",
   "pygments_lexer": "ipython3",
   "version": "3.6.1"
  }
 },
 "nbformat": 4,
 "nbformat_minor": 2
}
